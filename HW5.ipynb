{
 "cells": [
  {
   "cell_type": "code",
   "execution_count": 8,
   "id": "8c0ba04e-87b3-4d7e-8a0b-470755fbfd59",
   "metadata": {},
   "outputs": [
    {
     "name": "stdout",
     "output_type": "stream",
     "text": [
      "[array([5, 7, 9]), array([7, 7, 7])]\n"
     ]
    }
   ],
   "source": [
    "#1 The Odd Ones Out\n",
    "import numpy as np\n",
    "arr = np.array([[1,2,3], [5,7,9], [2,4,6],[7,7,7]])\n",
    "def onlyOdd(some_array):\n",
    "    list1 = []\n",
    "    for i in some_array:\n",
    "        counter = 0\n",
    "        for j in i:\n",
    "            if j % 2 == 0:\n",
    "                counter = 1\n",
    "        if counter == 0:\n",
    "            list1.append(i)\n",
    "    return list1\n",
    "\n",
    "print(onlyOdd(arr))\n"
   ]
  },
  {
   "cell_type": "code",
   "execution_count": 10,
   "id": "366d06c9-4da1-4c25-881a-666deb37dd6a",
   "metadata": {},
   "outputs": [
    {
     "name": "stdout",
     "output_type": "stream",
     "text": [
      "[[1 0 1 0 1 0 1 0]\n",
      " [0 1 0 1 0 1 0 1]\n",
      " [1 0 1 0 1 0 1 0]\n",
      " [0 1 0 1 0 1 0 1]\n",
      " [1 0 1 0 1 0 1 0]\n",
      " [0 1 0 1 0 1 0 1]\n",
      " [1 0 1 0 1 0 1 0]\n",
      " [0 1 0 1 0 1 0 1]]\n",
      "[[0 1 0 1 0 1 0 1]\n",
      " [1 0 1 0 1 0 1 0]\n",
      " [0 1 0 1 0 1 0 1]\n",
      " [1 0 1 0 1 0 1 0]\n",
      " [0 1 0 1 0 1 0 1]\n",
      " [1 0 1 0 1 0 1 0]\n",
      " [0 1 0 1 0 1 0 1]\n",
      " [1 0 1 0 1 0 1 0]]\n"
     ]
    }
   ],
   "source": [
    "#2 Checkers\n",
    "#2.1\n",
    "\"\"\"def checkerboard():\n",
    "    x = np.zeros((8,8), dtype = int)\n",
    "    return x\"\"\"\n",
    "\n",
    "#2.2/2.3\n",
    "def checkerboard():\n",
    "    x = np.zeros((8,8), dtype = int)\n",
    "    for row in range(x.shape[0]):\n",
    "        for element in range(x.shape[1]):\n",
    "            if row % 2 == 0:\n",
    "                if element % 2 == 0:\n",
    "                    x[row][element] = 1\n",
    "            else:\n",
    "                if element % 2 != 0:\n",
    "                    x[row][element] = 1\n",
    "    return x\n",
    "    \n",
    "print(checkerboard())\n",
    "\n",
    "#2.4 \n",
    "def reverse_checkerboard():\n",
    "    x = np.zeros((8,8), dtype = int)\n",
    "    for row in range(x.shape[0]):\n",
    "        for element in range(x.shape[1]):\n",
    "            if row % 2 == 0:\n",
    "                if element % 2 != 0:\n",
    "                    x[row][element] = 1\n",
    "            else:\n",
    "                if element % 2 == 0:\n",
    "                    x[row][element] = 1\n",
    "    return x\n",
    "\n",
    "print(reverse_checkerboard())"
   ]
  },
  {
   "cell_type": "code",
   "execution_count": 15,
   "id": "afe008f1-3dfa-4deb-86d7-97ca2ee113b3",
   "metadata": {},
   "outputs": [
    {
     "name": "stdout",
     "output_type": "stream",
     "text": [
      "['g a l a x y' 'c l u s t e r s']\n",
      "['g  a  l  a  x  y' 'c  l  u  s  t  e  r  s']\n"
     ]
    }
   ],
   "source": [
    "#3 The Expanding Universe\n",
    "def expansion(universe, exp):\n",
    "    expanded_words = []\n",
    "    for word in universe:\n",
    "        expanded_element = \"\"\n",
    "        for i in range(len(word)):\n",
    "            expanded_element += word[i]\n",
    "            if i < len(word) - 1:\n",
    "                expanded_element += ' ' * exp\n",
    "        expanded_words.append(expanded_element)\n",
    "    return np.array(expanded_words)\n",
    "\n",
    "universe = np.array(['galaxy', 'clusters']) \n",
    "print(expansion(universe, 1)) \n",
    "print(expansion(universe, 2))"
   ]
  },
  {
   "cell_type": "code",
   "execution_count": 24,
   "id": "6281ef05-7e03-4371-a668-794ebdab572f",
   "metadata": {},
   "outputs": [
    {
     "name": "stdout",
     "output_type": "stream",
     "text": [
      "[[202 535 960 370 206]\n",
      " [171 800 120 714 221]\n",
      " [566 314 430 558 187]\n",
      " [472 199 971 763 230]\n",
      " [761 408 869 443 591]]\n",
      "[566 535 960 714 230]\n"
     ]
    }
   ],
   "source": [
    "#4 Second Largest\n",
    "def secondLargest(planets):\n",
    "    second_largest_elements = []\n",
    "    for col in range(planets.shape[1]):\n",
    "            column = []\n",
    "            for row in range(planets.shape[0]):\n",
    "                column.append(planets[row][col])\n",
    "            unique_values = list(set(column))\n",
    "            unique_values.sort()\n",
    "            if len(unique_values) > 1:\n",
    "                second_largest = unique_values[-2]\n",
    "            else:\n",
    "                second_largest = unique_values[0]\n",
    "            second_largest_elements.append(second_largest)\n",
    "    return np.array(second_largest_elements)\n",
    "\n",
    "np.random.seed(42)\n",
    "planets = np.random.randint(100, 1000, (5,5))\n",
    "print (planets)\n",
    "print (secondLargest(planets))"
   ]
  },
  {
   "cell_type": "code",
   "execution_count": null,
   "id": "57afc3ff-cb17-420c-a712-d5fa9b0e7ba2",
   "metadata": {},
   "outputs": [],
   "source": [
    "#this one took me a long time I fear"
   ]
  }
 ],
 "metadata": {
  "kernelspec": {
   "display_name": "Python 3 (ipykernel)",
   "language": "python",
   "name": "python3"
  },
  "language_info": {
   "codemirror_mode": {
    "name": "ipython",
    "version": 3
   },
   "file_extension": ".py",
   "mimetype": "text/x-python",
   "name": "python",
   "nbconvert_exporter": "python",
   "pygments_lexer": "ipython3",
   "version": "3.12.4"
  }
 },
 "nbformat": 4,
 "nbformat_minor": 5
}
